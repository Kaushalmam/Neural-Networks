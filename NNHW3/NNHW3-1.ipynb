{
 "cells": [
  {
   "cell_type": "code",
   "execution_count": 1,
   "metadata": {},
   "outputs": [],
   "source": [
    "import numpy as np\n",
    "import matplotlib.pyplot as plt\n",
    "from numpy.linalg import inv\n",
    "import time"
   ]
  },
  {
   "cell_type": "code",
   "execution_count": 2,
   "metadata": {},
   "outputs": [
    {
     "name": "stdout",
     "output_type": "stream",
     "text": [
      "Time taken for gradient descent:  0.0062\n"
     ]
    },
    {
     "name": "stderr",
     "output_type": "stream",
     "text": [
      "C:\\Users\\kaush\\Anaconda3\\lib\\site-packages\\ipykernel_launcher.py:1: DeprecationWarning: time.clock has been deprecated in Python 3.3 and will be removed from Python 3.8: use time.perf_counter or time.process_time instead\n",
      "  \"\"\"Entry point for launching an IPython kernel.\n",
      "C:\\Users\\kaush\\Anaconda3\\lib\\site-packages\\ipykernel_launcher.py:31: DeprecationWarning: time.clock has been deprecated in Python 3.3 and will be removed from Python 3.8: use time.perf_counter or time.process_time instead\n"
     ]
    }
   ],
   "source": [
    "start = time.clock()\n",
    "\n",
    "x = 0.7\n",
    "y = 0.25\n",
    "learning_rate = 0.01\n",
    "\n",
    "w = np.array([x,y])\n",
    "\n",
    "w_x = []\n",
    "w_y = []\n",
    "f = []\n",
    "\n",
    "while (w[0]+w[1]<1) and (w[0]>0) and (w[1]>0):\n",
    "    energy = - np.log(1-w[0]-w[1]) - np.log(w[0]) - np.log(w[1])\n",
    "    f.append(energy) \n",
    "    \n",
    "    w_x.append(w[0])\n",
    "    w_y.append(w[1])\n",
    "    \n",
    "    grad_x = 1/(1-w[0]-w[1]) - 1/(w[0])\n",
    "    grad_y = 1/(1-w[0]-w[1]) - 1/(w[1])\n",
    "    gradient = np.array([grad_x, grad_y])\n",
    "    \n",
    "    update = learning_rate * gradient\n",
    "    \n",
    "    if np.linalg.norm(w - np.subtract(w,update)) < 0.001:\n",
    "        break\n",
    "    else:\n",
    "        w = np.subtract(w,update)\n",
    "\n",
    "end = time.clock()\n",
    "print (\"Time taken for gradient descent: \", round((end-start), 4))"
   ]
  },
  {
   "cell_type": "code",
   "execution_count": 3,
   "metadata": {},
   "outputs": [
    {
     "data": {
      "image/png": "[encoded data removed]",
      "text/plain": [
       "<Figure size 576x576 with 1 Axes>"
      ]
     },
     "metadata": {
      "needs_background": "light"
     },
     "output_type": "display_data"
    }
   ],
   "source": [
    "fig, ax = plt.subplots(figsize=(8,8))\n",
    "\n",
    "plt.scatter(w_x, w_y, c = 'green')\n",
    "plt.ylim([0,1])\n",
    "plt.xlim([0,1])\n",
    "plt.ylabel('Y values')\n",
    "plt.xlabel('X values')\n",
    "plt.title('Gradient Descent')\n",
    "\n",
    "plt.show()"
   ]
  },
  {
   "cell_type": "code",
   "execution_count": 4,
   "metadata": {},
   "outputs": [
    {
     "data": {
      "image/png": "[encoded data removed]",
      "text/plain": [
       "<Figure size 576x576 with 1 Axes>"
      ]
     },
     "metadata": {
      "needs_background": "light"
     },
     "output_type": "display_data"
    }
   ],
   "source": [
    "fig, ax = plt.subplots(figsize=(8,8))\n",
    "\n",
    "plt.scatter(range(len(f)), f , c = 'blue')\n",
    "plt.ylabel('Energies')\n",
    "plt.xlabel('Iterations')\n",
    "plt.title('Energies - Gradient Descent')\n",
    "\n",
    "plt.show()"
   ]
  },
  {
   "cell_type": "code",
   "execution_count": 5,
   "metadata": {},
   "outputs": [
    {
     "name": "stdout",
     "output_type": "stream",
     "text": [
      "Time taken for Newton's method:  0.0018\n"
     ]
    },
    {
     "name": "stderr",
     "output_type": "stream",
     "text": [
      "C:\\Users\\kaush\\Anaconda3\\lib\\site-packages\\ipykernel_launcher.py:1: DeprecationWarning: time.clock has been deprecated in Python 3.3 and will be removed from Python 3.8: use time.perf_counter or time.process_time instead\n",
      "  \"\"\"Entry point for launching an IPython kernel.\n",
      "C:\\Users\\kaush\\Anaconda3\\lib\\site-packages\\ipykernel_launcher.py:35: DeprecationWarning: time.clock has been deprecated in Python 3.3 and will be removed from Python 3.8: use time.perf_counter or time.process_time instead\n"
     ]
    }
   ],
   "source": [
    "start = time.clock()\n",
    "\n",
    "x = 0.7\n",
    "y = 0.2\n",
    "learning_rate = 1\n",
    "\n",
    "w = np.array([x,y])\n",
    "\n",
    "w_x = []\n",
    "w_y = []\n",
    "f = []\n",
    "\n",
    "while ((w[0]+w[1])<1) and (w[0]>0) and (w[1]>0):\n",
    "    energy = - np.log(1-w[0]-w[1]) - np.log(w[0]) - np.log(w[1])\n",
    "    f.append(energy) \n",
    "    \n",
    "    w_x.append(w[0])\n",
    "    w_y.append(w[1])\n",
    "    \n",
    "    grad_x = 1/(1-w[0]-w[1]) - 1/(w[0])\n",
    "    grad_y = 1/(1-w[0]-w[1]) - 1/(w[1]) \n",
    "    gradient = np.array([grad_x, grad_y])\n",
    "    \n",
    "    hessian_x1 = 1/((1-w[0]-w[1])*(1-w[0]-w[1])) + 1/(w[0]*w[0])\n",
    "    hessian_y2 = 1/((1-w[0]-w[1])*(1-w[0]-w[1])) + 1/(w[1]*w[1])\n",
    "    hessian_xy = 1/(1- w[0]-w[1]) * (1- w[0]-w[1])\n",
    "    hessian = np.array([[hessian_x1, hessian_xy],[hessian_xy, hessian_y2]])\n",
    "    \n",
    "    update = learning_rate * np.matmul(inv(hessian), gradient)\n",
    "    if np.linalg.norm(w - np.subtract(w,update)) < 0.00001:\n",
    "        break\n",
    "    else:\n",
    "        w = np.subtract(w,update)\n",
    "\n",
    "end = time.clock()\n",
    "print (\"Time taken for Newton's method: \", round((end-start), 4))"
   ]
  },
  {
   "cell_type": "code",
   "execution_count": 6,
   "metadata": {},
   "outputs": [
    {
     "data": {
      "image/png": "[encoded data removed]",
      "text/plain": [
       "<Figure size 576x576 with 1 Axes>"
      ]
     },
     "metadata": {
      "needs_background": "light"
     },
     "output_type": "display_data"
    }
   ],
   "source": [
    "fig, ax = plt.subplots(figsize=(8,8))\n",
    "\n",
    "plt.scatter(w_x, w_y, c = 'green')\n",
    "plt.ylim([0,1])\n",
    "plt.xlim([0,1])\n",
    "plt.ylabel('Y values')\n",
    "plt.xlabel('X values')\n",
    "plt.title('Newton\\'s Method')\n",
    "\n",
    "plt.show()"
   ]
  },
  {
   "cell_type": "code",
   "execution_count": 7,
   "metadata": {},
   "outputs": [
    {
     "data": {
      "image/png": "[encoded data removed]",
      "text/plain": [
       "<Figure size 576x576 with 1 Axes>"
      ]
     },
     "metadata": {
      "needs_background": "light"
     },
     "output_type": "display_data"
    }
   ],
   "source": [
    "fig, ax = plt.subplots(figsize=(8,8))\n",
    "\n",
    "plt.scatter(range(len(f)), f , c = 'blue')\n",
    "plt.ylabel('Energies')\n",
    "plt.xlabel('Iterations')\n",
    "plt.title('Energies - Newton\\'s Method')\n",
    "\n",
    "plt.show()"
   ]
  },
  {
   "cell_type": "markdown",
   "metadata": {},
   "source": [
    "Newton's method is 0.001 seconds faster than Gradient Descent.\n",
    "\n",
    "The convergence speed may change from function to function.\n",
    "\n",
    "Usually, Newton's method has inverse quadratic convergence compared to the inverse linear convergence of gradient descent."
   ]
  },
  {
   "cell_type": "code",
   "execution_count": null,
   "metadata": {},
   "outputs": [],
   "source": []
  }
 ],
 "metadata": {
  "kernelspec": {
   "display_name": "Python 3",
   "language": "python",
   "name": "python3"
  },
  "language_info": {
   "codemirror_mode": {
    "name": "ipython",
    "version": 3
   },
   "file_extension": ".py",
   "mimetype": "text/x-python",
   "name": "python",
   "nbconvert_exporter": "python",
   "pygments_lexer": "ipython3",
   "version": "3.7.4"
  }
 },
 "nbformat": 4,
 "nbformat_minor": 2
}
